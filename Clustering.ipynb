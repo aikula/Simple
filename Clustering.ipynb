{
 "cells": [
  {
   "cell_type": "code",
   "execution_count": null,
   "id": "6b4e93a9-b0f5-4c49-b53d-af0362a6a889",
   "metadata": {},
   "outputs": [],
   "source": [
    "import pandas as pd\n",
    "import matplotlib.pyplot as plt\n",
    "import seaborn as sns"
   ]
  },
  {
   "cell_type": "code",
   "execution_count": null,
   "id": "faacf1e2-b829-4bae-b74e-e0151d278aae",
   "metadata": {},
   "outputs": [],
   "source": [
    "df=pd.read_csv('segmentation data.csv')"
   ]
  },
  {
   "cell_type": "code",
   "execution_count": null,
   "id": "2c15444c-fc08-47c8-a690-a09a4ddc3348",
   "metadata": {},
   "outputs": [],
   "source": [
    "df.sample(4)"
   ]
  },
  {
   "cell_type": "code",
   "execution_count": null,
   "id": "0b1c234c-e374-4be8-974d-d7d42d98e373",
   "metadata": {},
   "outputs": [],
   "source": [
    "df.info()"
   ]
  },
  {
   "cell_type": "code",
   "execution_count": null,
   "id": "1da6e8f0-5012-4c28-807c-85cbf1db8d66",
   "metadata": {},
   "outputs": [],
   "source": [
    "df.describe()"
   ]
  },
  {
   "cell_type": "code",
   "execution_count": null,
   "id": "3feaffd6-d84b-47db-a7d8-cdf66f7bf61e",
   "metadata": {},
   "outputs": [],
   "source": [
    "df.hist(figsize=(12,12));"
   ]
  },
  {
   "cell_type": "code",
   "execution_count": null,
   "id": "4ca26863-957e-4149-9cee-357b756214ca",
   "metadata": {},
   "outputs": [],
   "source": [
    "sns.pairplot(df)"
   ]
  },
  {
   "cell_type": "code",
   "execution_count": null,
   "id": "55ed1919-8e75-4935-871d-a899cb8676f3",
   "metadata": {},
   "outputs": [],
   "source": [
    "plt.figure(figsize=(6,6))\n",
    "sns.heatmap(df.corr(),linewidths=0.6,fmt=\".2f\",annot=True,cmap=\"viridis\")\n",
    "plt.show()"
   ]
  },
  {
   "cell_type": "code",
   "execution_count": null,
   "id": "fab6d58f-8fbd-4a54-9279-4a519707fed2",
   "metadata": {},
   "outputs": [],
   "source": [
    "corr = df.corr()\n",
    "plt.figure(figsize=(14, 14))\n",
    "sns_fig=sns.heatmap(corr[(corr >= 0.4) | (corr <= -0.4)],\n",
    "            cmap=\"RdBu_r\", vmax=1.0, vmin=-1.0, linewidths=0.1,\n",
    "            annot=True, annot_kws={\"size\": 8}, square=True)"
   ]
  },
  {
   "cell_type": "code",
   "execution_count": null,
   "id": "f310bed8-ab5a-4f45-8a25-bf0d0909c072",
   "metadata": {},
   "outputs": [],
   "source": [
    "from sklearn.preprocessing import MinMaxScaler\n",
    "\n",
    "X = MinMaxScaler().fit_transform(df)\n",
    "X = pd.DataFrame(data=X, columns=df.columns)\n",
    "X.head()"
   ]
  },
  {
   "cell_type": "code",
   "execution_count": null,
   "id": "77b7c1de-c164-4cf5-9b77-eaf6d17c65c1",
   "metadata": {},
   "outputs": [],
   "source": [
    "!pip install yellowbrick\n",
    "from yellowbrick.cluster import KElbowVisualizer\n",
    "from sklearn.cluster import KMeans"
   ]
  },
  {
   "cell_type": "code",
   "execution_count": null,
   "id": "b9af9bf6-e084-458a-b0a4-679c44fecf21",
   "metadata": {},
   "outputs": [],
   "source": [
    "model = KMeans()\n",
    "visualizer = KElbowVisualizer(model, k=(1, 20))\n",
    "visualizer.fit(X)\n",
    "visualizer.show()\n",
    "plt.show()"
   ]
  },
  {
   "cell_type": "code",
   "execution_count": null,
   "id": "0578b667-99af-484d-840f-a0a0c8100e9a",
   "metadata": {},
   "outputs": [],
   "source": [
    "kmeans = KMeans(n_clusters=6, random_state=0).fit(X)\n",
    "X_kmeans = kmeans.labels_"
   ]
  },
  {
   "cell_type": "code",
   "execution_count": null,
   "id": "f477f0f8-60b1-4e3f-874e-8e25eb87e15c",
   "metadata": {},
   "outputs": [],
   "source": [
    "sns.scatterplot(data=X, x='Age', y='Income', hue=X_kmeans)\n",
    "plt.show()"
   ]
  },
  {
   "cell_type": "code",
   "execution_count": null,
   "id": "a01f938b-479d-49e1-9b4c-53286c255d8e",
   "metadata": {},
   "outputs": [],
   "source": [
    "df['Kmeans']=X_kmeans\n",
    "sns.pairplot(data=df,hue='Kmeans')\n",
    "plt.show()"
   ]
  },
  {
   "cell_type": "code",
   "execution_count": null,
   "id": "e60d8090-a6c7-410a-a0a4-deffc0374599",
   "metadata": {},
   "outputs": [],
   "source": []
  }
 ],
 "metadata": {
  "kernelspec": {
   "display_name": "Python 3 (ipykernel)",
   "language": "python",
   "name": "python3"
  },
  "language_info": {
   "codemirror_mode": {
    "name": "ipython",
    "version": 3
   },
   "file_extension": ".py",
   "mimetype": "text/x-python",
   "name": "python",
   "nbconvert_exporter": "python",
   "pygments_lexer": "ipython3",
   "version": "3.10.6"
  }
 },
 "nbformat": 4,
 "nbformat_minor": 5
}
